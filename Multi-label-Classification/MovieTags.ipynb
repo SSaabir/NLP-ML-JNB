{
 "cells": [
  {
   "cell_type": "code",
   "execution_count": 37,
   "id": "9fd397c0",
   "metadata": {},
   "outputs": [],
   "source": [
    "import pandas as pd\n",
    "import numpy as np"
   ]
  },
  {
   "cell_type": "code",
   "execution_count": 38,
   "id": "dcffdb9f",
   "metadata": {},
   "outputs": [
    {
     "data": {
      "text/html": [
       "<div>\n",
       "<style scoped>\n",
       "    .dataframe tbody tr th:only-of-type {\n",
       "        vertical-align: middle;\n",
       "    }\n",
       "\n",
       "    .dataframe tbody tr th {\n",
       "        vertical-align: top;\n",
       "    }\n",
       "\n",
       "    .dataframe thead th {\n",
       "        text-align: right;\n",
       "    }\n",
       "</style>\n",
       "<table border=\"1\" class=\"dataframe\">\n",
       "  <thead>\n",
       "    <tr style=\"text-align: right;\">\n",
       "      <th></th>\n",
       "      <th>title</th>\n",
       "      <th>overview</th>\n",
       "      <th>genre_ids</th>\n",
       "    </tr>\n",
       "  </thead>\n",
       "  <tbody>\n",
       "    <tr>\n",
       "      <th>0</th>\n",
       "      <td>The Shawshank Redemption</td>\n",
       "      <td>Imprisoned in the 1940s for the double murder ...</td>\n",
       "      <td>[18, 80]</td>\n",
       "    </tr>\n",
       "    <tr>\n",
       "      <th>1</th>\n",
       "      <td>The Godfather</td>\n",
       "      <td>Spanning the years 1945 to 1955, a chronicle o...</td>\n",
       "      <td>[18, 80]</td>\n",
       "    </tr>\n",
       "    <tr>\n",
       "      <th>2</th>\n",
       "      <td>The Godfather Part II</td>\n",
       "      <td>In the continuing saga of the Corleone crime f...</td>\n",
       "      <td>[18, 80]</td>\n",
       "    </tr>\n",
       "    <tr>\n",
       "      <th>3</th>\n",
       "      <td>Schindler's List</td>\n",
       "      <td>The true story of how businessman Oskar Schind...</td>\n",
       "      <td>[18, 36, 10752]</td>\n",
       "    </tr>\n",
       "    <tr>\n",
       "      <th>4</th>\n",
       "      <td>12 Angry Men</td>\n",
       "      <td>The defense and the prosecution have rested an...</td>\n",
       "      <td>[18]</td>\n",
       "    </tr>\n",
       "  </tbody>\n",
       "</table>\n",
       "</div>"
      ],
      "text/plain": [
       "                      title  \\\n",
       "0  The Shawshank Redemption   \n",
       "1             The Godfather   \n",
       "2     The Godfather Part II   \n",
       "3          Schindler's List   \n",
       "4              12 Angry Men   \n",
       "\n",
       "                                            overview        genre_ids  \n",
       "0  Imprisoned in the 1940s for the double murder ...         [18, 80]  \n",
       "1  Spanning the years 1945 to 1955, a chronicle o...         [18, 80]  \n",
       "2  In the continuing saga of the Corleone crime f...         [18, 80]  \n",
       "3  The true story of how businessman Oskar Schind...  [18, 36, 10752]  \n",
       "4  The defense and the prosecution have rested an...             [18]  "
      ]
     },
     "execution_count": 38,
     "metadata": {},
     "output_type": "execute_result"
    }
   ],
   "source": [
    "data_overview = pd.read_csv('./Data/movies_overview.csv')\n",
    "data_tags = pd.read_csv('./Data/movies_genres.csv')\n",
    "data_overview.head()"
   ]
  },
  {
   "cell_type": "code",
   "execution_count": 39,
   "id": "0a9a5abf",
   "metadata": {},
   "outputs": [
    {
     "name": "stdout",
     "output_type": "stream",
     "text": [
      "{28: 'Action', 12: 'Adventure', 16: 'Animation', 35: 'Comedy', 80: 'Crime', 99: 'Documentary', 18: 'Drama', 10751: 'Family', 14: 'Fantasy', 36: 'History', 27: 'Horror', 10402: 'Music', 9648: 'Mystery', 10749: 'Romance', 878: 'Science Fiction', 10770: 'TV Movie', 53: 'Thriller', 10752: 'War', 37: 'Western'}\n"
     ]
    }
   ],
   "source": [
    "data_tags.head()\n",
    "tag_map = dict(zip(data_tags['id'], data_tags['name']))\n",
    "print(tag_map)"
   ]
  },
  {
   "cell_type": "code",
   "execution_count": 40,
   "id": "6c436bca",
   "metadata": {},
   "outputs": [],
   "source": [
    "import ast"
   ]
  },
  {
   "cell_type": "code",
   "execution_count": 41,
   "id": "f095273f",
   "metadata": {},
   "outputs": [],
   "source": [
    "if isinstance(data_overview['genre_ids'].iloc[0], str):\n",
    "    data_overview['genre_ids'] = data_overview['genre_ids'].apply(ast.literal_eval)"
   ]
  },
  {
   "cell_type": "code",
   "execution_count": 42,
   "id": "5497ab08",
   "metadata": {},
   "outputs": [],
   "source": [
    "def ids_to_names(tag_id_str):\n",
    "    return [tag_map.get(tag_id, \"UNKNOWN\") for tag_id in tag_id_str]\n",
    "    "
   ]
  },
  {
   "cell_type": "code",
   "execution_count": 43,
   "id": "6964f0c5",
   "metadata": {},
   "outputs": [],
   "source": [
    "data_overview['tag_names'] = data_overview['genre_ids'].apply(ids_to_names)"
   ]
  },
  {
   "cell_type": "code",
   "execution_count": 44,
   "id": "d8c6fa95",
   "metadata": {},
   "outputs": [
    {
     "data": {
      "text/html": [
       "<div>\n",
       "<style scoped>\n",
       "    .dataframe tbody tr th:only-of-type {\n",
       "        vertical-align: middle;\n",
       "    }\n",
       "\n",
       "    .dataframe tbody tr th {\n",
       "        vertical-align: top;\n",
       "    }\n",
       "\n",
       "    .dataframe thead th {\n",
       "        text-align: right;\n",
       "    }\n",
       "</style>\n",
       "<table border=\"1\" class=\"dataframe\">\n",
       "  <thead>\n",
       "    <tr style=\"text-align: right;\">\n",
       "      <th></th>\n",
       "      <th>title</th>\n",
       "      <th>overview</th>\n",
       "      <th>genre_ids</th>\n",
       "      <th>tag_names</th>\n",
       "    </tr>\n",
       "  </thead>\n",
       "  <tbody>\n",
       "    <tr>\n",
       "      <th>0</th>\n",
       "      <td>The Shawshank Redemption</td>\n",
       "      <td>Imprisoned in the 1940s for the double murder ...</td>\n",
       "      <td>[18, 80]</td>\n",
       "      <td>[Drama, Crime]</td>\n",
       "    </tr>\n",
       "    <tr>\n",
       "      <th>1</th>\n",
       "      <td>The Godfather</td>\n",
       "      <td>Spanning the years 1945 to 1955, a chronicle o...</td>\n",
       "      <td>[18, 80]</td>\n",
       "      <td>[Drama, Crime]</td>\n",
       "    </tr>\n",
       "    <tr>\n",
       "      <th>2</th>\n",
       "      <td>The Godfather Part II</td>\n",
       "      <td>In the continuing saga of the Corleone crime f...</td>\n",
       "      <td>[18, 80]</td>\n",
       "      <td>[Drama, Crime]</td>\n",
       "    </tr>\n",
       "    <tr>\n",
       "      <th>3</th>\n",
       "      <td>Schindler's List</td>\n",
       "      <td>The true story of how businessman Oskar Schind...</td>\n",
       "      <td>[18, 36, 10752]</td>\n",
       "      <td>[Drama, History, War]</td>\n",
       "    </tr>\n",
       "    <tr>\n",
       "      <th>4</th>\n",
       "      <td>12 Angry Men</td>\n",
       "      <td>The defense and the prosecution have rested an...</td>\n",
       "      <td>[18]</td>\n",
       "      <td>[Drama]</td>\n",
       "    </tr>\n",
       "  </tbody>\n",
       "</table>\n",
       "</div>"
      ],
      "text/plain": [
       "                      title  \\\n",
       "0  The Shawshank Redemption   \n",
       "1             The Godfather   \n",
       "2     The Godfather Part II   \n",
       "3          Schindler's List   \n",
       "4              12 Angry Men   \n",
       "\n",
       "                                            overview        genre_ids  \\\n",
       "0  Imprisoned in the 1940s for the double murder ...         [18, 80]   \n",
       "1  Spanning the years 1945 to 1955, a chronicle o...         [18, 80]   \n",
       "2  In the continuing saga of the Corleone crime f...         [18, 80]   \n",
       "3  The true story of how businessman Oskar Schind...  [18, 36, 10752]   \n",
       "4  The defense and the prosecution have rested an...             [18]   \n",
       "\n",
       "               tag_names  \n",
       "0         [Drama, Crime]  \n",
       "1         [Drama, Crime]  \n",
       "2         [Drama, Crime]  \n",
       "3  [Drama, History, War]  \n",
       "4                [Drama]  "
      ]
     },
     "execution_count": 44,
     "metadata": {},
     "output_type": "execute_result"
    }
   ],
   "source": [
    "data_overview.head()"
   ]
  },
  {
   "cell_type": "code",
   "execution_count": 45,
   "id": "f19e2643",
   "metadata": {},
   "outputs": [],
   "source": [
    "def clean_text(text):\n",
    "    text = text.lower()\n",
    "    return text"
   ]
  },
  {
   "cell_type": "code",
   "execution_count": 58,
   "id": "fb54e6a7",
   "metadata": {},
   "outputs": [],
   "source": [
    "data_overview['overview'] = data_overview['overview'].apply(clean_text)\n",
    "data_overview['title'] = data_overview['title'].apply(clean_text)   "
   ]
  },
  {
   "cell_type": "code",
   "execution_count": 47,
   "id": "b828c3f4",
   "metadata": {},
   "outputs": [
    {
     "data": {
      "text/html": [
       "<div>\n",
       "<style scoped>\n",
       "    .dataframe tbody tr th:only-of-type {\n",
       "        vertical-align: middle;\n",
       "    }\n",
       "\n",
       "    .dataframe tbody tr th {\n",
       "        vertical-align: top;\n",
       "    }\n",
       "\n",
       "    .dataframe thead th {\n",
       "        text-align: right;\n",
       "    }\n",
       "</style>\n",
       "<table border=\"1\" class=\"dataframe\">\n",
       "  <thead>\n",
       "    <tr style=\"text-align: right;\">\n",
       "      <th></th>\n",
       "      <th>title</th>\n",
       "      <th>overview</th>\n",
       "      <th>genre_ids</th>\n",
       "      <th>tag_names</th>\n",
       "    </tr>\n",
       "  </thead>\n",
       "  <tbody>\n",
       "    <tr>\n",
       "      <th>0</th>\n",
       "      <td>the shawshank redemption</td>\n",
       "      <td>imprisoned in the 1940s for the double murder ...</td>\n",
       "      <td>[18, 80]</td>\n",
       "      <td>[Drama, Crime]</td>\n",
       "    </tr>\n",
       "    <tr>\n",
       "      <th>1</th>\n",
       "      <td>the godfather</td>\n",
       "      <td>spanning the years 1945 to 1955, a chronicle o...</td>\n",
       "      <td>[18, 80]</td>\n",
       "      <td>[Drama, Crime]</td>\n",
       "    </tr>\n",
       "    <tr>\n",
       "      <th>2</th>\n",
       "      <td>the godfather part ii</td>\n",
       "      <td>in the continuing saga of the corleone crime f...</td>\n",
       "      <td>[18, 80]</td>\n",
       "      <td>[Drama, Crime]</td>\n",
       "    </tr>\n",
       "    <tr>\n",
       "      <th>3</th>\n",
       "      <td>schindler's list</td>\n",
       "      <td>the true story of how businessman oskar schind...</td>\n",
       "      <td>[18, 36, 10752]</td>\n",
       "      <td>[Drama, History, War]</td>\n",
       "    </tr>\n",
       "    <tr>\n",
       "      <th>4</th>\n",
       "      <td>12 angry men</td>\n",
       "      <td>the defense and the prosecution have rested an...</td>\n",
       "      <td>[18]</td>\n",
       "      <td>[Drama]</td>\n",
       "    </tr>\n",
       "  </tbody>\n",
       "</table>\n",
       "</div>"
      ],
      "text/plain": [
       "                      title  \\\n",
       "0  the shawshank redemption   \n",
       "1             the godfather   \n",
       "2     the godfather part ii   \n",
       "3          schindler's list   \n",
       "4              12 angry men   \n",
       "\n",
       "                                            overview        genre_ids  \\\n",
       "0  imprisoned in the 1940s for the double murder ...         [18, 80]   \n",
       "1  spanning the years 1945 to 1955, a chronicle o...         [18, 80]   \n",
       "2  in the continuing saga of the corleone crime f...         [18, 80]   \n",
       "3  the true story of how businessman oskar schind...  [18, 36, 10752]   \n",
       "4  the defense and the prosecution have rested an...             [18]   \n",
       "\n",
       "               tag_names  \n",
       "0         [Drama, Crime]  \n",
       "1         [Drama, Crime]  \n",
       "2         [Drama, Crime]  \n",
       "3  [Drama, History, War]  \n",
       "4                [Drama]  "
      ]
     },
     "execution_count": 47,
     "metadata": {},
     "output_type": "execute_result"
    }
   ],
   "source": [
    "data_overview.head()"
   ]
  },
  {
   "cell_type": "code",
   "execution_count": 48,
   "id": "f1d433fc",
   "metadata": {},
   "outputs": [
    {
     "name": "stdout",
     "output_type": "stream",
     "text": [
      "      Action  Adventure  Animation  Comedy  Crime  Drama  Family  Fantasy  \\\n",
      "0          0          0          0       0      1      1       0        0   \n",
      "1          0          0          0       0      1      1       0        0   \n",
      "2          0          0          0       0      1      1       0        0   \n",
      "3          0          0          0       0      0      1       0        0   \n",
      "4          0          0          0       0      0      1       0        0   \n",
      "...      ...        ...        ...     ...    ...    ...     ...      ...   \n",
      "9975       1          1          0       1      0      0       0        1   \n",
      "9976       0          0          0       0      1      0       0        0   \n",
      "9977       0          0          0       0      0      1       0        0   \n",
      "9978       1          1          0       0      0      0       0        0   \n",
      "9979       0          0          0       1      0      0       0        0   \n",
      "\n",
      "      History  Horror  Music  Mystery  Romance  Science Fiction  TV Movie  \\\n",
      "0           0       0      0        0        0                0         0   \n",
      "1           0       0      0        0        0                0         0   \n",
      "2           0       0      0        0        0                0         0   \n",
      "3           1       0      0        0        0                0         0   \n",
      "4           0       0      0        0        0                0         0   \n",
      "...       ...     ...    ...      ...      ...              ...       ...   \n",
      "9975        0       0      0        0        0                1         0   \n",
      "9976        0       0      0        0        0                0         0   \n",
      "9977        0       0      0        0        1                0         0   \n",
      "9978        0       0      0        0        0                1         0   \n",
      "9979        0       0      0        0        0                0         0   \n",
      "\n",
      "      Thriller  War  Western  \n",
      "0            0    0        0  \n",
      "1            0    0        0  \n",
      "2            0    0        0  \n",
      "3            0    1        0  \n",
      "4            0    0        0  \n",
      "...        ...  ...      ...  \n",
      "9975         0    0        0  \n",
      "9976         1    0        0  \n",
      "9977         0    0        0  \n",
      "9978         0    0        0  \n",
      "9979         0    0        0  \n",
      "\n",
      "[9980 rows x 18 columns]\n"
     ]
    }
   ],
   "source": [
    "from sklearn.preprocessing import MultiLabelBinarizer\n",
    "\n",
    "mlb = MultiLabelBinarizer()\n",
    "y = pd.DataFrame(mlb.fit_transform(data_overview['tag_names']), columns=mlb.classes_)\n",
    "\n",
    "print(y)"
   ]
  },
  {
   "cell_type": "code",
   "execution_count": null,
   "id": "50df276f",
   "metadata": {},
   "outputs": [],
   "source": [
    "from sklearn.pipeline import Pipeline\n",
    "from sklearn.feature_extraction.text import TfidfVectorizer\n",
    "from sklearn.linear_model import LogisticRegression\n",
    "from sklearn.multiclass import OneVsRestClassifier\n",
    "\n",
    "pipe = Pipeline([\n",
    "        ('tfidf', TfidfVectorizer(max_features=20000, ngram_range=(1,2), stop_words='english')),\n",
    "        ('clf', OneVsRestClassifier(LogisticRegression(solver='saga', max_iter=1000, n_jobs=-1)))\n",
    "    ])"
   ]
  },
  {
   "cell_type": "code",
   "execution_count": 60,
   "id": "064fbc00",
   "metadata": {},
   "outputs": [
    {
     "name": "stdout",
     "output_type": "stream",
     "text": [
      "0       imprisoned in the 1940s for the double murder ...\n",
      "1       spanning the years 1945 to 1955, a chronicle o...\n",
      "2       in the continuing saga of the corleone crime f...\n",
      "3       the true story of how businessman oskar schind...\n",
      "4       the defense and the prosecution have rested an...\n",
      "                              ...                        \n",
      "9975    two brothers have half of a powerful ancient c...\n",
      "9976    a rabid film fan stalks his favorite action he...\n",
      "9977    18-year-old penny cooper spent years pining fo...\n",
      "9978    four young outsiders teleport to a dangerous u...\n",
      "9979    carlo, on vacation in south africa with his se...\n",
      "Name: overview, Length: 9980, dtype: object\n"
     ]
    }
   ],
   "source": [
    "x = data_overview['overview']\n",
    "xt = (data_overview['title'] + ' ').str.strip() + ' ' + data_overview['overview']\n",
    "print(x)\n"
   ]
  },
  {
   "cell_type": "code",
   "execution_count": 55,
   "id": "33257cd0",
   "metadata": {},
   "outputs": [],
   "source": [
    "from sklearn.model_selection import train_test_split\n",
    "\n",
    "x_temp, x_test, y_temp, y_test = train_test_split(x, y, test_size=0.2, random_state=42)\n",
    "x_train, x_val, y_train, y_val = train_test_split(x_temp, y_temp, test_size=0.2, random_state=42)\n"
   ]
  },
  {
   "cell_type": "code",
   "execution_count": null,
   "id": "40593e1f",
   "metadata": {},
   "outputs": [
    {
     "name": "stdout",
     "output_type": "stream",
     "text": [
      "Validation Micro F1: 0.3716971094165632\n",
      "Validation Macro F1: 0.18273811267482173\n",
      "Validation Hamming Loss: 0.12325193070340221\n",
      "Test Micro F1: 0.3874404261283992\n",
      "Test Macro F1: 0.19566661015775558\n",
      "Test Hamming Loss: 0.12163215319527945\n"
     ]
    }
   ],
   "source": [
    "print(\"Only overview\")\n",
    "print(f\"Train set size: {len(x_train)}\")\n",
    "print(f\"Validation set size: {len(x_val)}\")\n",
    "print(f\"Test set size: {len(x_test)}\")  \n",
    "print(f\"Number of classes: {len(y.columns)}\")\n",
    "\n",
    "\n",
    "pipe.fit(x_train, y_train)\n",
    "\n",
    "y_valid_pred = pipe.predict(x_val)\n",
    "y_test_pred = pipe.predict(x_test)\n",
    "\n",
    "from sklearn.metrics import f1_score, hamming_loss\n",
    "val_micro_f1 = f1_score(y_val, y_valid_pred, average='micro')\n",
    "val_macro_f1 = f1_score(y_val, y_valid_pred, average='macro')\n",
    "val_hamming_loss = hamming_loss(y_val, y_valid_pred)\n",
    "\n",
    "print(f\"Validation Micro F1: {val_micro_f1}\")\n",
    "print(f\"Validation Macro F1: {val_macro_f1}\")\n",
    "print(f\"Validation Hamming Loss: {val_hamming_loss}\")\n",
    "\n",
    "test_micro_f1 = f1_score(y_test, y_test_pred, average='micro')\n",
    "test_macro_f1 = f1_score(y_test, y_test_pred, average='macro')\n",
    "test_hamming_loss = hamming_loss(y_test, y_test_pred)\n",
    "print(f\"Test Micro F1: {test_micro_f1}\")\n",
    "print(f\"Test Macro F1: {test_macro_f1}\")\n",
    "print(f\"Test Hamming Loss: {test_hamming_loss}\")"
   ]
  },
  {
   "cell_type": "code",
   "execution_count": 62,
   "id": "cacede04",
   "metadata": {},
   "outputs": [
    {
     "name": "stdout",
     "output_type": "stream",
     "text": [
      "Title + Overview\n"
     ]
    }
   ],
   "source": [
    "xt_temp, xt_test, yt_temp, yt_test = train_test_split(xt, y, test_size=0.2, random_state=42)\n",
    "xt_train, xt_val, yt_train, yt_val = train_test_split(xt_temp, yt_temp, test_size=0.2, random_state=42)\n",
    "print(\"Title + Overview\")"
   ]
  },
  {
   "cell_type": "code",
   "execution_count": 63,
   "id": "7b64b367",
   "metadata": {},
   "outputs": [
    {
     "name": "stdout",
     "output_type": "stream",
     "text": [
      "Title + Overview\n",
      "Train set size: 6387\n",
      "Validation set size: 1597\n",
      "Test set size: 1996\n",
      "Validation Micro F1 (Title + Overview): 0.3878809230227233\n",
      "Validation Macro F1 (Title + Overview): 0.1972600435663337\n",
      "Validation Hamming Loss (Title + Overview): 0.12088638419258331\n",
      "Test Micro F1 (Title + Overview): 0.3990492170022371\n",
      "Test Macro F1 (Title + Overview): 0.20620775511251552\n",
      "Test Hamming Loss (Title + Overview): 0.11962814517924739\n"
     ]
    }
   ],
   "source": [
    "print(\"Title + Overview\")\n",
    "print(f\"Train set size: {len(xt_train)}\")\n",
    "print(f\"Validation set size: {len(xt_val)}\")\n",
    "print(f\"Test set size: {len(xt_test)}\")\n",
    "pipe.fit(xt_train, yt_train)\n",
    "\n",
    "yt_valid_pred = pipe.predict(xt_val)\n",
    "yt_test_pred = pipe.predict(xt_test)\n",
    "\n",
    "val_micro_f1_xt = f1_score(yt_val, yt_valid_pred, average='micro')\n",
    "val_macro_f1_xt = f1_score(yt_val, yt_valid_pred, average='macro')\n",
    "val_hamming_loss_xt = hamming_loss(yt_val, yt_valid_pred)\n",
    "print(f\"Validation Micro F1 (Title + Overview): {val_micro_f1_xt}\")\n",
    "print(f\"Validation Macro F1 (Title + Overview): {val_macro_f1_xt}\") \n",
    "print(f\"Validation Hamming Loss (Title + Overview): {val_hamming_loss_xt}\")\n",
    "test_micro_f1_xt = f1_score(yt_test, yt_test_pred, average='micro')\n",
    "test_macro_f1_xt = f1_score(yt_test, yt_test_pred, average='macro')\n",
    "test_hamming_loss_xt = hamming_loss(yt_test, yt_test_pred)\n",
    "print(f\"Test Micro F1 (Title + Overview): {test_micro_f1_xt}\")\n",
    "print(f\"Test Macro F1 (Title + Overview): {test_macro_f1_xt}\")\n",
    "print(f\"Test Hamming Loss (Title + Overview): {test_hamming_loss_xt}\")\n",
    "# This code is for multi-label classification of movie tags using TF-IDF and logistic regression.\n"
   ]
  },
  {
   "cell_type": "code",
   "execution_count": null,
   "id": "af241700",
   "metadata": {},
   "outputs": [],
   "source": [
    "'''\n",
    "from sklearn.multioutput import MultiOutputClassifier\n",
    "from sklearn.ensemble import RandomForestClassifier\n",
    "\n",
    "cls = MultiOutputClassifier(RandomForestClassifier())\n",
    "cls.fit(x_train, y_train)\n",
    "'''"
   ]
  },
  {
   "cell_type": "code",
   "execution_count": null,
   "id": "8a1cc547",
   "metadata": {},
   "outputs": [],
   "source": [
    "'''\n",
    "y_valid_pred = cls.predict(x_val)\n",
    "y_valid_pred_f = pd.DataFrame(y_valid_pred, columns=y.columns)\n",
    "'''"
   ]
  },
  {
   "cell_type": "code",
   "execution_count": null,
   "id": "2ecb2b0c",
   "metadata": {},
   "outputs": [],
   "source": [
    "'''\n",
    "from sklearn.metrics import classification_report\n",
    "\n",
    "print(\"📊 Validation Results:\")\n",
    "for col in y.columns:\n",
    "    print(f\"\\n--- {col} ---\")\n",
    "    print(classification_report(y_val[col], y_valid_pred_f[col]))\n",
    "    '''"
   ]
  },
  {
   "cell_type": "code",
   "execution_count": null,
   "id": "92b94ce8",
   "metadata": {},
   "outputs": [],
   "source": [
    "'''\n",
    "y_test_pred = cls.predict(x_test)\n",
    "print(\"📊 Test Results:\")\n",
    "for col in y.columns:\n",
    "    print(f\"\\n--- {col} ---\")\n",
    "    print(classification_report(y_test[col], y_test_pred[:, y.columns.get_loc(col)]))\n",
    "'''"
   ]
  },
  {
   "cell_type": "code",
   "execution_count": null,
   "id": "449b550a",
   "metadata": {},
   "outputs": [],
   "source": [
    "'''\n",
    "from sklearn.metrics import accuracy_score\n",
    "\n",
    "# Label-wise exact match\n",
    "print(\"Exact Match Accuracy (Validation):\", accuracy_score(y_val, y_valid_pred))\n",
    "'''"
   ]
  },
  {
   "cell_type": "code",
   "execution_count": null,
   "id": "05ae469f",
   "metadata": {},
   "outputs": [],
   "source": [
    "'''\n",
    "import joblib\n",
    "joblib.dump(cls, \"multi_label_model.pkl\")\n",
    "#Would Comments on what to do next\n",
    "'''\n"
   ]
  },
  {
   "cell_type": "code",
   "execution_count": null,
   "id": "eb2a8f98",
   "metadata": {},
   "outputs": [],
   "source": [
    "#review"
   ]
  }
 ],
 "metadata": {
  "kernelspec": {
   "display_name": "Python 3",
   "language": "python",
   "name": "python3"
  },
  "language_info": {
   "codemirror_mode": {
    "name": "ipython",
    "version": 3
   },
   "file_extension": ".py",
   "mimetype": "text/x-python",
   "name": "python",
   "nbconvert_exporter": "python",
   "pygments_lexer": "ipython3",
   "version": "3.10.0"
  }
 },
 "nbformat": 4,
 "nbformat_minor": 5
}
