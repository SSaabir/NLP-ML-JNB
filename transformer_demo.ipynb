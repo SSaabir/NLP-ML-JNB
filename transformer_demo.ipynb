{
 "cells": [
  {
   "cell_type": "markdown",
   "id": "1d7b6f6b",
   "metadata": {},
   "source": [
    "# Transformer Architecture — Python Demo\n",
    "This notebook demonstrates a minimal Transformer model implementation using PyTorch."
   ]
  },
  {
   "cell_type": "code",
   "execution_count": 15,
   "id": "0602f4eb",
   "metadata": {},
   "outputs": [],
   "source": [
    "\n",
    "import torch\n",
    "import torch.nn as nn\n",
    "import torch.nn.functional as F\n",
    "import math\n"
   ]
  },
  {
   "cell_type": "markdown",
   "id": "b1c73715",
   "metadata": {},
   "source": [
    "## Positional Encoding"
   ]
  },
  {
   "cell_type": "code",
   "execution_count": 16,
   "id": "4f84a6ac",
   "metadata": {},
   "outputs": [],
   "source": [
    "class PositionalEncoding(nn.Module):\n",
    "    def __init__(self, d_model, max_len=5000):\n",
    "        super().__init__()\n",
    "        pe = torch.zeros(max_len, d_model)\n",
    "        position = torch.arange(0, max_len, dtype=torch.float).unsqueeze(1)\n",
    "        div_term = torch.exp(torch.arange(0, d_model, 2).float() * (-math.log(10000.0) / d_model))\n",
    "        pe[:, 0::2] = torch.sin(position * div_term)\n",
    "        pe[:, 1::2] = torch.cos(position * div_term)\n",
    "        pe = pe.unsqueeze(1)  # (max_len, 1, d_model)  <-- changed (was unsqueeze(0))\n",
    "        self.register_buffer('pe', pe)\n",
    "\n",
    "    def forward(self, x):  # x: (seq_len, batch, d_model)\n",
    "        seq_len = x.size(0)\n",
    "        return x + self.pe[:seq_len, :, :]  # (seq_len, 1, d_model) broadcasts over batch\n"
   ]
  },
  {
   "cell_type": "markdown",
   "id": "428472e5",
   "metadata": {},
   "source": [
    "## Minimal Transformer Model"
   ]
  },
  {
   "cell_type": "code",
   "execution_count": 17,
   "id": "e2c204a0",
   "metadata": {},
   "outputs": [],
   "source": [
    "\n",
    "class TransformerModel(nn.Module):\n",
    "    def __init__(self, vocab_size, d_model=128, nhead=4, num_layers=2, dim_feedforward=512):\n",
    "        super().__init__()\n",
    "        self.embedding = nn.Embedding(vocab_size, d_model)\n",
    "        self.pos_encoder = PositionalEncoding(d_model)\n",
    "        encoder_layers = nn.TransformerEncoderLayer(d_model, nhead, dim_feedforward)\n",
    "        self.transformer_encoder = nn.TransformerEncoder(encoder_layers, num_layers)\n",
    "        self.fc_out = nn.Linear(d_model, vocab_size)\n",
    "\n",
    "    def forward(self, src):\n",
    "        # src expected shape: (seq_len, batch_size)\n",
    "        emb = self.embedding(src)  # (seq_len, batch_size, d_model)\n",
    "        # scale embeddings by sqrt(d_model) as in the original transformer\n",
    "        embedded = emb * math.sqrt(emb.size(-1))\n",
    "        embedded = self.pos_encoder(embedded)\n",
    "        output = self.transformer_encoder(embedded)\n",
    "        output = self.fc_out(output)\n",
    "        return output\n"
   ]
  },
  {
   "cell_type": "markdown",
   "id": "417ea765",
   "metadata": {},
   "source": [
    "## Example Usage"
   ]
  },
  {
   "cell_type": "code",
   "execution_count": 18,
   "id": "3255651a",
   "metadata": {},
   "outputs": [
    {
     "name": "stdout",
     "output_type": "stream",
     "text": [
      "torch.Size([10, 32, 100])\n"
     ]
    }
   ],
   "source": [
    "\n",
    "# Example: random token IDs\n",
    "vocab_size = 100\n",
    "src = torch.randint(0, vocab_size, (10, 32))  # sequence length 10, batch size 32\n",
    "\n",
    "model = TransformerModel(vocab_size)\n",
    "out = model(src)\n",
    "print(out.shape)  # [seq_len, batch_size, vocab_size]\n"
   ]
  },
  {
   "cell_type": "code",
   "execution_count": null,
   "id": "4a696f1f",
   "metadata": {},
   "outputs": [
    {
     "name": "stdout",
     "output_type": "stream",
     "text": [
      "Note: you may need to restart the kernel to use updated packages.\n"
     ]
    },
    {
     "name": "stderr",
     "output_type": "stream",
     "text": [
      "ERROR: Could not find a version that satisfies the requirement iwslt2017 (from versions: none)\n",
      "ERROR: No matching distribution found for iwslt2017\n"
     ]
    },
    {
     "ename": "ModuleNotFoundError",
     "evalue": "No module named 'iwslt2017'",
     "output_type": "error",
     "traceback": [
      "\u001b[1;31m---------------------------------------------------------------------------\u001b[0m",
      "\u001b[1;31mModuleNotFoundError\u001b[0m                       Traceback (most recent call last)",
      "Cell \u001b[1;32mIn[3], line 3\u001b[0m\n\u001b[0;32m      1\u001b[0m get_ipython()\u001b[38;5;241m.\u001b[39mrun_line_magic(\u001b[38;5;124m'\u001b[39m\u001b[38;5;124mpip\u001b[39m\u001b[38;5;124m'\u001b[39m, \u001b[38;5;124m'\u001b[39m\u001b[38;5;124minstall iwslt2017\u001b[39m\u001b[38;5;124m'\u001b[39m)\n\u001b[1;32m----> 3\u001b[0m \u001b[38;5;28;01mimport\u001b[39;00m\u001b[38;5;250m \u001b[39m\u001b[38;5;21;01miwslt2017\u001b[39;00m\n\u001b[0;32m      4\u001b[0m \u001b[38;5;28;01mimport\u001b[39;00m\u001b[38;5;250m \u001b[39m\u001b[38;5;21;01minspect\u001b[39;00m\n\u001b[0;32m      5\u001b[0m \u001b[38;5;28mprint\u001b[39m(inspect\u001b[38;5;241m.\u001b[39mgetsourcefile(iwslt2017))\n",
      "\u001b[1;31mModuleNotFoundError\u001b[0m: No module named 'iwslt2017'"
     ]
    }
   ],
   "source": [
    "import iwslt2017\n",
    "import inspect\n",
    "print(inspect.getsourcefile(iwslt2017))\n"
   ]
  }
 ],
 "metadata": {
  "kernelspec": {
   "display_name": "Python 3",
   "language": "python",
   "name": "python3"
  },
  "language_info": {
   "codemirror_mode": {
    "name": "ipython",
    "version": 3
   },
   "file_extension": ".py",
   "mimetype": "text/x-python",
   "name": "python",
   "nbconvert_exporter": "python",
   "pygments_lexer": "ipython3",
   "version": "3.10.0"
  }
 },
 "nbformat": 4,
 "nbformat_minor": 5
}
